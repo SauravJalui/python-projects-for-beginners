{
 "cells": [
  {
   "cell_type": "markdown",
   "metadata": {},
   "source": [
    "# Data Collections and Files"
   ]
  },
  {
   "cell_type": "markdown",
   "metadata": {},
   "source": [
    "## Dictionaries"
   ]
  },
  {
   "cell_type": "markdown",
   "metadata": {},
   "source": [
    "#### Declaring a Dictionary"
   ]
  },
  {
   "cell_type": "code",
   "execution_count": 8,
   "metadata": {},
   "outputs": [
    {
     "name": "stdout",
     "output_type": "stream",
     "text": [
      "{'name': 'Morty', 'age': 26}\n",
      "{'name': 'John Smith'}\n",
      "{}\n"
     ]
    }
   ],
   "source": [
    "# declaring a dictionary variable\n",
    "empty = dict() # empty dictionary, can also use empty= {}\n",
    "person = { 'name' : \"John Smith\" } # dictionary with only one key/ value pair\n",
    "customer = {\n",
    "    \"name\" : \"Morty\",\n",
    "    \"age\" : 26\n",
    "}\n",
    "print(customer)\n",
    "print(person)\n",
    "print(empty)"
   ]
  },
  {
   "cell_type": "markdown",
   "metadata": {},
   "source": [
    "#### Accessing Dictionary Information"
   ]
  },
  {
   "cell_type": "code",
   "execution_count": 9,
   "metadata": {},
   "outputs": [
    {
     "name": "stdout",
     "output_type": "stream",
     "text": [
      "John\n"
     ]
    }
   ],
   "source": [
    "# accessing dictionary information through keys\n",
    "person = { \"name\" : \"John\"}\n",
    "print(person[\"name\"])"
   ]
  },
  {
   "cell_type": "markdown",
   "metadata": {},
   "source": [
    "#### Using the Get Method"
   ]
  },
  {
   "cell_type": "code",
   "execution_count": 15,
   "metadata": {},
   "outputs": [
    {
     "name": "stdout",
     "output_type": "stream",
     "text": [
      "John\n",
      "Age is not available.\n",
      "None\n"
     ]
    }
   ],
   "source": [
    "# using the get method to access dictionary information\n",
    "person = {\"name\" : \"John\"}\n",
    "print(person.get (\"name\"))\n",
    "print(person.get(\"age\", \"Age is not available.\"))\n",
    "print(person.get(\"sex\"))"
   ]
  },
  {
   "cell_type": "markdown",
   "metadata": {},
   "source": [
    "#### Dictionaries with Lists"
   ]
  },
  {
   "cell_type": "code",
   "execution_count": 18,
   "metadata": {},
   "outputs": [
    {
     "name": "stdout",
     "output_type": "stream",
     "text": [
      "baseball\n"
     ]
    }
   ],
   "source": [
    "#stroing a list within a dictionary and accessing it\n",
    "data = {\"sports\" : [\"baseball\", \"football\", \"hockey\", \"soccer\"] }\n",
    "print(data[\"sports\"][0])"
   ]
  },
  {
   "cell_type": "code",
   "execution_count": 25,
   "metadata": {},
   "outputs": [
    {
     "name": "stdout",
     "output_type": "stream",
     "text": [
      "['baseball', 'football', 'hockey', 'soccer']\n"
     ]
    }
   ],
   "source": [
    "# improperly storing a list within a dictionary\n",
    "sports = [\"baseball\", \"football\", \"hockey\", \"soccer\"]\n",
    "sports_dict = dict({\"sports\" : sports})\n",
    "print(sports_dict['sports'])"
   ]
  },
  {
   "cell_type": "markdown",
   "metadata": {},
   "source": [
    "#### Lists with Dictionaries"
   ]
  },
  {
   "cell_type": "code",
   "execution_count": 28,
   "metadata": {},
   "outputs": [
    {
     "name": "stdout",
     "output_type": "stream",
     "text": [
      "{'name': 'Kirsten'}\n",
      "Kirsten\n"
     ]
    }
   ],
   "source": [
    "# storing a dictionary within a list and accessing it\n",
    "data = [\"John\", \"Dennis\", {\"name\" : \"Kirsten\"}]\n",
    "print(data[2])\n",
    "print( data[2][\"name\"] )"
   ]
  },
  {
   "cell_type": "markdown",
   "metadata": {},
   "source": [
    "#### Dictionaries with Dictionaries"
   ]
  },
  {
   "cell_type": "code",
   "execution_count": 30,
   "metadata": {},
   "outputs": [
    {
     "name": "stdout",
     "output_type": "stream",
     "text": [
      "{'2018': 108, '2017': 93}\n",
      "108\n"
     ]
    }
   ],
   "source": [
    "#storing a dictionary within a dictionary and accessing it\n",
    "data = {\n",
    "    \"team\": \"Boston Red Sox\",\n",
    "    \"wins\": {\"2018\" : 108, \"2017\" : 93}\n",
    "}\n",
    "print(data[\"wins\"])\n",
    "print(data[\"wins\"][\"2018\"])"
   ]
  },
  {
   "cell_type": "markdown",
   "metadata": {},
   "source": [
    "### MONDAY EXERCISES"
   ]
  },
  {
   "cell_type": "markdown",
   "metadata": {},
   "source": [
    "#### 1. User Input: \n",
    "ask the user for their name and age, and then create a dictionary\n",
    "with those key-value pairs. output the dictionary once created."
   ]
  },
  {
   "cell_type": "code",
   "execution_count": 88,
   "metadata": {
    "scrolled": true
   },
   "outputs": [
    {
     "name": "stdout",
     "output_type": "stream",
     "text": [
      "Enter your name:dss\n",
      "Enter your age: 34\n",
      "{'name': 'dss', 'age': 34}\n"
     ]
    }
   ],
   "source": [
    "name = input(\"Enter your name:\")\n",
    "age = int(input(\"Enter your age: \"))\n",
    "person = {\"name\" : name, \"age\" : age}\n",
    "print(person)"
   ]
  },
  {
   "cell_type": "markdown",
   "metadata": {},
   "source": [
    "#### 2. Accessing Ingredients: \n",
    "output all the ingredients from the following list within\n",
    "the “ingredients” key using a for loop:\n",
    "> pizza = {\n",
    "> 'ingredients': ['cheese', 'sausage', 'peppers']\n",
    "> }"
   ]
  },
  {
   "cell_type": "code",
   "execution_count": 101,
   "metadata": {},
   "outputs": [
    {
     "name": "stdout",
     "output_type": "stream",
     "text": [
      "['cheese', 'sausage', 'peppers']\n"
     ]
    }
   ],
   "source": [
    "pizza = { 'ingredients': ['cheese', 'sausage', 'peppers'] }\n",
    "for ingredients in pizza:\n",
    "    print(pizza[\"ingredients\"])"
   ]
  },
  {
   "cell_type": "markdown",
   "metadata": {},
   "source": [
    "#### Revison:"
   ]
  },
  {
   "cell_type": "code",
   "execution_count": 1,
   "metadata": {},
   "outputs": [
    {
     "name": "stdout",
     "output_type": "stream",
     "text": [
      "None\n"
     ]
    }
   ],
   "source": [
    "def scopeTest():\n",
    "    word = \"funcion\"\n",
    "value = scopeTest()\n",
    "print(value)"
   ]
  },
  {
   "cell_type": "code",
   "execution_count": 9,
   "metadata": {},
   "outputs": [
    {
     "name": "stdout",
     "output_type": "stream",
     "text": [
      "<class 'dict'>\n",
      "John Smith\n",
      "5\n"
     ]
    }
   ],
   "source": [
    "# using kwargs parameter to take in a dictionary of arbitrary values\n",
    "def outputData(**kwargs):\n",
    "    print(type(kwargs))\n",
    "    print(kwargs[\"name\"])\n",
    "    print(kwargs[\"num\"])\n",
    "outputData(name = \"John Smith\", num = 5, b = True)"
   ]
  },
  {
   "cell_type": "code",
   "execution_count": 19,
   "metadata": {},
   "outputs": [
    {
     "name": "stdout",
     "output_type": "stream",
     "text": [
      "<class 'tuple'>\n",
      "5\n",
      "True\n",
      "Jess\n"
     ]
    }
   ],
   "source": [
    "# using args parameter to take in a tuple of arbitrary values\n",
    "def outputData(name, *args):\n",
    "    print(type(args))\n",
    "    for arg in args:\n",
    "        print(arg)\n",
    "outputData(\"John Smith\", 5, True, \"Jess\")"
   ]
  },
  {
   "cell_type": "markdown",
   "metadata": {},
   "source": [
    "## Working with Dictionaries"
   ]
  },
  {
   "cell_type": "markdown",
   "metadata": {},
   "source": [
    "#### Adding New Information"
   ]
  },
  {
   "cell_type": "code",
   "execution_count": 25,
   "metadata": {},
   "outputs": [
    {
     "name": "stdout",
     "output_type": "stream",
     "text": [
      "Year: 2018 \n",
      "Color: Blue\n"
     ]
    }
   ],
   "source": [
    "# adding new key/value pairs to a dictionary\n",
    "car = {'year' : 2018}\n",
    "car['color'] = 'Blue'\n",
    "print(\"Year: {} \\nColor: {}\".format(car[\"year\"], car[\"color\"]))"
   ]
  },
  {
   "cell_type": "markdown",
   "metadata": {},
   "source": [
    "#### Changing Information"
   ]
  },
  {
   "cell_type": "code",
   "execution_count": 31,
   "metadata": {},
   "outputs": [
    {
     "name": "stdout",
     "output_type": "stream",
     "text": [
      "Year: 2018 \tcolor: Red\n"
     ]
    }
   ],
   "source": [
    "# updating a value for a key/valur pair that already exists\n",
    "car = { \"year\": 2018, \"color\": \"Blue\"}\n",
    "car[\"color\"] = \"Red\"\n",
    "print(\"Year: {} \\tcolor: {}\".format(car[\"year\"], car[\"color\"]))   "
   ]
  },
  {
   "cell_type": "markdown",
   "metadata": {},
   "source": [
    "#### Deleting Information"
   ]
  },
  {
   "cell_type": "code",
   "execution_count": 36,
   "metadata": {},
   "outputs": [
    {
     "name": "stdout",
     "output_type": "stream",
     "text": [
      "don't exist\n"
     ]
    }
   ],
   "source": [
    "#deleting a key/value pair from a dictionary\n",
    "car = {\"year\" : 2018}\n",
    "try:\n",
    "    del car[\"year\"]\n",
    "    print(car[\"year\"])\n",
    "except:\n",
    "    print(\"don't exist\")"
   ]
  },
  {
   "cell_type": "markdown",
   "metadata": {},
   "source": [
    "#### Looping a Dictionary"
   ]
  },
  {
   "cell_type": "markdown",
   "metadata": {},
   "source": [
    "#### Looping Only Keys"
   ]
  },
  {
   "cell_type": "code",
   "execution_count": 2,
   "metadata": {},
   "outputs": [
    {
     "name": "stdout",
     "output_type": "stream",
     "text": [
      "name\n",
      "John\n",
      "age\n",
      "26\n"
     ]
    }
   ],
   "source": [
    "#looping over a dictionary via the keys\n",
    "person = {\"name\" : \"John\", \"age\" : 26}\n",
    "for key in person.keys():\n",
    "          print(key) # will output the current key\n",
    "          print(person[key]) # will output the value at the current key"
   ]
  },
  {
   "cell_type": "markdown",
   "metadata": {},
   "source": [
    "#### Looping Only Values"
   ]
  },
  {
   "cell_type": "code",
   "execution_count": 55,
   "metadata": {},
   "outputs": [
    {
     "name": "stdout",
     "output_type": "stream",
     "text": [
      "John\n",
      "26\n"
     ]
    }
   ],
   "source": [
    "#looping over a dictionary via the values\n",
    "person = { \"name\" : \"John\", \"age\" : 26}\n",
    "for value in person.values():\n",
    "    print(value)"
   ]
  },
  {
   "cell_type": "markdown",
   "metadata": {},
   "source": [
    "#### Looping Key-Value Pairs"
   ]
  },
  {
   "cell_type": "code",
   "execution_count": 59,
   "metadata": {},
   "outputs": [
    {
     "name": "stdout",
     "output_type": "stream",
     "text": [
      "name : John\n",
      "age : 26\n"
     ]
    }
   ],
   "source": [
    "#looping over a dictionary via the key/value pair\n",
    "person = {\"name\" : \"John\", \"age\" : 26}\n",
    "for key, value in person.items():\n",
    "    print(\"{} : {}\".format(key, value))"
   ]
  },
  {
   "cell_type": "markdown",
   "metadata": {},
   "source": [
    "### TUESDAY EXERCISES"
   ]
  },
  {
   "cell_type": "markdown",
   "metadata": {},
   "source": [
    "#### 1. User Input: \n",
    "Declare an empty dictionary. ask the user for their name, address,\n",
    "and number. add that information to the dictionary and iterate over it to show\n",
    "the user"
   ]
  },
  {
   "cell_type": "code",
   "execution_count": 78,
   "metadata": {},
   "outputs": [
    {
     "name": "stdout",
     "output_type": "stream",
     "text": [
      "Enter your name: sdsd\n",
      "Enter your address: dsdsd\n",
      "Enter your phone number: 45\n",
      "name : sdsd\n",
      "address : dsdsd\n",
      "phone number : 45\n"
     ]
    }
   ],
   "source": [
    "empty = {}\n",
    "empty1 = dict()\n",
    "name = input(\"Enter your name: \")\n",
    "add = input (\"Enter your address: \")\n",
    "number = int(input(\"Enter your phone number: \"))\n",
    "empty[\"name\"] = name\n",
    "empty[\"address\"] = add\n",
    "empty[\"phone number\"] = number\n",
    "for k,v in empty.items():\n",
    "    print(\"{} : {}\".format(k, v))"
   ]
  },
  {
   "cell_type": "markdown",
   "metadata": {},
   "source": [
    "#### 2. Problem-Solving: \n",
    "What is wrong with the following code:\n",
    "#### person = { 'name', 'John Smith' }\n",
    "#### print(person['name'])"
   ]
  },
  {
   "cell_type": "code",
   "execution_count": 79,
   "metadata": {},
   "outputs": [
    {
     "name": "stdout",
     "output_type": "stream",
     "text": [
      "John Smith\n"
     ]
    }
   ],
   "source": [
    "person = {\"name\" : \"John Smith\"}\n",
    "print(person['name'])"
   ]
  },
  {
   "cell_type": "markdown",
   "metadata": {},
   "source": [
    "## Tuples, Sets, Frozensets"
   ]
  },
  {
   "cell_type": "markdown",
   "metadata": {},
   "source": [
    "#### Declaring a Tuple"
   ]
  },
  {
   "cell_type": "code",
   "execution_count": 2,
   "metadata": {},
   "outputs": [
    {
     "name": "stdout",
     "output_type": "stream",
     "text": [
      "<class 'tuple'> <class 'tuple'>\n"
     ]
    },
    {
     "ename": "TypeError",
     "evalue": "'tuple' object does not support item assignment",
     "output_type": "error",
     "traceback": [
      "\u001b[1;31m---------------------------------------------------------------------------\u001b[0m",
      "\u001b[1;31mTypeError\u001b[0m                                 Traceback (most recent call last)",
      "\u001b[1;32m<ipython-input-2-4bb383d45d91>\u001b[0m in \u001b[0;36m<module>\u001b[1;34m\u001b[0m\n\u001b[0;32m      3\u001b[0m \u001b[0mt2\u001b[0m \u001b[1;33m=\u001b[0m \u001b[1;32mTrue\u001b[0m\u001b[1;33m,\u001b[0m \u001b[1;36m1\u001b[0m\u001b[1;33m\u001b[0m\u001b[1;33m\u001b[0m\u001b[0m\n\u001b[0;32m      4\u001b[0m \u001b[0mprint\u001b[0m\u001b[1;33m(\u001b[0m\u001b[0mtype\u001b[0m\u001b[1;33m(\u001b[0m\u001b[0mt1\u001b[0m\u001b[1;33m)\u001b[0m\u001b[1;33m,\u001b[0m \u001b[0mtype\u001b[0m\u001b[1;33m(\u001b[0m\u001b[0mt2\u001b[0m\u001b[1;33m)\u001b[0m\u001b[1;33m)\u001b[0m\u001b[1;33m\u001b[0m\u001b[1;33m\u001b[0m\u001b[0m\n\u001b[1;32m----> 5\u001b[1;33m \u001b[0mt1\u001b[0m\u001b[1;33m[\u001b[0m\u001b[1;36m0\u001b[0m\u001b[1;33m]\u001b[0m\u001b[1;33m=\u001b[0m\u001b[1;36m1\u001b[0m\u001b[1;33m\u001b[0m\u001b[1;33m\u001b[0m\u001b[0m\n\u001b[0m",
      "\u001b[1;31mTypeError\u001b[0m: 'tuple' object does not support item assignment"
     ]
    }
   ],
   "source": [
    "# declaring a tuple\n",
    "\n",
    "t1 = (\"hello\", 2, \"hello\")    # with parens\n",
    "\n",
    "t2 = True, 1     # without parens\n",
    "\n",
    "print( type(t1), type(t2) )     # both are tuples\n",
    "\n",
    "t1[0] = 1    # will crash, tuples are immutable once declared"
   ]
  },
  {
   "cell_type": "markdown",
   "metadata": {},
   "source": [
    "#### Declaring a Set"
   ]
  },
  {
   "cell_type": "code",
   "execution_count": 1,
   "metadata": {},
   "outputs": [
    {
     "name": "stdout",
     "output_type": "stream",
     "text": [
      "<class 'set'> <class 'set'>\n",
      "{2, 3, 5}\n"
     ]
    }
   ],
   "source": [
    "# declaring a set\n",
    "s1 = set([1, 2, 3, 1])\n",
    "s2 = {4, 4, 5}\n",
    "print(type(s1), type(s2))\n",
    "s1.add(5)\n",
    "s1.remove(1)\n",
    "print(s1)"
   ]
  },
  {
   "cell_type": "markdown",
   "metadata": {},
   "source": [
    "#### Declaring a Frozenset"
   ]
  },
  {
   "cell_type": "code",
   "execution_count": 4,
   "metadata": {},
   "outputs": [
    {
     "name": "stdout",
     "output_type": "stream",
     "text": [
      "<class 'frozenset'>\n",
      "frozenset({1, 2, 3, 4})\n"
     ]
    }
   ],
   "source": [
    "# declaring a frozenset\n",
    "fset = frozenset([1,2,3,4])\n",
    "print(type(fset))\n",
    "print(fset)"
   ]
  },
  {
   "cell_type": "markdown",
   "metadata": {},
   "source": [
    "### WEDNESDAY EXERCISES"
   ]
  },
  {
   "cell_type": "markdown",
   "metadata": {},
   "source": [
    "#### 1. User Input: \n",
    "ask the user to input as many bank account numbers as they’d\n",
    "like, and store them within a list initially. once the user is done entering\n",
    "information, convert the list to a frozenset and print it out."
   ]
  },
  {
   "cell_type": "code",
   "execution_count": 9,
   "metadata": {},
   "outputs": [
    {
     "name": "stdout",
     "output_type": "stream",
     "text": [
      "Enter account number: 45\n"
     ]
    },
    {
     "ename": "AttributeError",
     "evalue": "'float' object has no attribute 'insert'",
     "output_type": "error",
     "traceback": [
      "\u001b[1;31m---------------------------------------------------------------------------\u001b[0m",
      "\u001b[1;31mAttributeError\u001b[0m                            Traceback (most recent call last)",
      "\u001b[1;32m<ipython-input-9-1362ed35badd>\u001b[0m in \u001b[0;36m<module>\u001b[1;34m\u001b[0m\n\u001b[0;32m      1\u001b[0m \u001b[0maccno\u001b[0m \u001b[1;33m=\u001b[0m \u001b[0mfloat\u001b[0m\u001b[1;33m(\u001b[0m\u001b[0minput\u001b[0m\u001b[1;33m(\u001b[0m\u001b[1;34m\"Enter account number: \"\u001b[0m\u001b[1;33m)\u001b[0m\u001b[1;33m)\u001b[0m\u001b[1;33m\u001b[0m\u001b[1;33m\u001b[0m\u001b[0m\n\u001b[0;32m      2\u001b[0m \u001b[0maccnolist\u001b[0m \u001b[1;33m=\u001b[0m \u001b[1;33m[\u001b[0m\u001b[1;33m]\u001b[0m\u001b[1;33m\u001b[0m\u001b[1;33m\u001b[0m\u001b[0m\n\u001b[1;32m----> 3\u001b[1;33m \u001b[0maccno\u001b[0m\u001b[1;33m.\u001b[0m\u001b[0minsert\u001b[0m\u001b[1;33m(\u001b[0m\u001b[0maccno\u001b[0m\u001b[1;33m)\u001b[0m\u001b[1;33m\u001b[0m\u001b[1;33m\u001b[0m\u001b[0m\n\u001b[0m\u001b[0;32m      4\u001b[0m \u001b[0mprint\u001b[0m\u001b[1;33m(\u001b[0m\u001b[0maccno\u001b[0m\u001b[1;33m)\u001b[0m\u001b[1;33m\u001b[0m\u001b[1;33m\u001b[0m\u001b[0m\n",
      "\u001b[1;31mAttributeError\u001b[0m: 'float' object has no attribute 'insert'"
     ]
    }
   ],
   "source": [
    "accounts = []\n",
    "done = False\n",
    "\n",
    "while not done:\n",
    "    ans = input('Enter an account number or quit: ').lower()\n",
    "    \n",
    "    if ans == 'quit':\n",
    "        done = True\n",
    "        \n",
    "        accounts = frozenset(accounts)\n",
    "        for acc in accounts:\n",
    "            print(\"Account Number: {}\".format(acc))\n",
    "            \n",
    "    else:\n",
    "        accounts.append(ans)"
   ]
  },
  {
   "cell_type": "markdown",
   "metadata": {},
   "source": [
    "#### 2. Conversion: \n",
    "Convert the following list into a set of unique values. print it out\n",
    "after to check there are no duplicates:\n",
    "nums = [3, 4, 3, 7, 10]"
   ]
  },
  {
   "cell_type": "markdown",
   "metadata": {},
   "source": [
    "## Reading and Writing Files"
   ]
  },
  {
   "cell_type": "code",
   "execution_count": 10,
   "metadata": {},
   "outputs": [
    {
     "name": "stdout",
     "output_type": "stream",
     "text": [
      "This is a test\n"
     ]
    }
   ],
   "source": [
    "# opening/ creating and writing to a text file\n",
    "f = open(\"test.txt\", \"w+\")\n",
    "f.write(\"This is a test\")\n",
    "f.close()\n",
    "\n",
    "# reading from a text file\n",
    "f = open(\"test.txt\", \"r\")\n",
    "data = f.read()\n",
    "f.close()\n",
    "print(data)"
   ]
  },
  {
   "cell_type": "markdown",
   "metadata": {},
   "source": [
    "#### Writing to CSV Files"
   ]
  },
  {
   "cell_type": "code",
   "execution_count": 11,
   "metadata": {},
   "outputs": [],
   "source": [
    "# opening / creating and writing to a csv file\n",
    "import csv\n",
    "with open (\"test.csv\", mode =\"w\", newline = \"\") as f:\n",
    "    writer = csv.writer(f, delimiter=\",\")\n",
    "    writer.writerow([\"Name\", \"City\"])\n",
    "    writer.writerow([\"Craig Lou\", \"Taiwan\"])"
   ]
  },
  {
   "cell_type": "markdown",
   "metadata": {},
   "source": [
    "#### Reading from CSV Files"
   ]
  },
  {
   "cell_type": "code",
   "execution_count": 12,
   "metadata": {},
   "outputs": [
    {
     "name": "stdout",
     "output_type": "stream",
     "text": [
      "['Name', 'City']\n",
      "['Craig Lou', 'Taiwan']\n"
     ]
    }
   ],
   "source": [
    "# reading from csv files\n",
    "with open(\"test.csv\", mode = \"r\") as f:\n",
    "    reader = csv.reader (f, delimiter=\",\")\n",
    "    for row in reader:\n",
    "        print(row)"
   ]
  },
  {
   "cell_type": "markdown",
   "metadata": {},
   "source": [
    "### THURSDAY EXERCISES"
   ]
  },
  {
   "cell_type": "markdown",
   "metadata": {},
   "source": [
    "#### 1. User Input: \n",
    "ask a user for their favorite number, and save it to a text file."
   ]
  },
  {
   "cell_type": "code",
   "execution_count": 21,
   "metadata": {},
   "outputs": [
    {
     "name": "stdout",
     "output_type": "stream",
     "text": [
      "Enter your fav no: 25\n"
     ]
    }
   ],
   "source": [
    "no = int(input(\"Enter your fav no: \"))\n",
    "f = open(\"favno.txt\", \"w+\")\n",
    "f.write(\"fav no is: {}\".format(no))\n",
    "f.close()"
   ]
  },
  {
   "cell_type": "markdown",
   "metadata": {},
   "source": [
    "#### 2. Data Dumping: \n",
    "Using the dictionary of following data, save the\n",
    "information to a csv file with the keys as the headers and the\n",
    "values as the rows of data:\n",
    "#### data = {\n",
    "'name' : ['Dave', 'Dennis', 'Peter', 'Jess'],\n",
    "'language': ['Python', 'C', 'Java', 'Python']\n",
    "}"
   ]
  },
  {
   "cell_type": "code",
   "execution_count": 20,
   "metadata": {},
   "outputs": [
    {
     "name": "stdout",
     "output_type": "stream",
     "text": [
      "['Name', 'Language']\n",
      "['Dave', 'Python']\n",
      "['Dennis', 'C']\n",
      "['Peter', 'Java']\n",
      "['Jess', 'Python']\n"
     ]
    }
   ],
   "source": [
    "import csv\n",
    "with open(\"data.csv\", mode = \"w+\", newline = \"\") as f:\n",
    "    writer = csv.writer(f, delimiter = \",\")\n",
    "    writer.writerow([\"Name\",\"Language\"])\n",
    "    writer.writerow(['Dave', 'Python'])\n",
    "    writer.writerow(['Dennis', 'C'])\n",
    "    writer.writerow(['Peter', 'Java'])\n",
    "    writer.writerow(['Jess', 'Python'])\n",
    "    \n",
    "with open(\"data.csv\", mode = \"r\") as f:\n",
    "    reader=csv.reader(f, delimiter =\",\")\n",
    "    for row in reader:\n",
    "        print(row)"
   ]
  },
  {
   "cell_type": "markdown",
   "metadata": {},
   "source": [
    "# Friday: Creating a User Database with CSV Files"
   ]
  },
  {
   "cell_type": "code",
   "execution_count": 3,
   "metadata": {},
   "outputs": [
    {
     "name": "stdout",
     "output_type": "stream",
     "text": [
      "Thanks for using our software!\n"
     ]
    }
   ],
   "source": [
    "# import all necessary packages to be used\n",
    "import csv\n",
    "from IPython.display import clear_output\n",
    "\n",
    "# handling user registration and writing to csv\n",
    "def registerUser():\n",
    "    with open(\"users.csv\", mode = \"a\", newline = \"\") as f:\n",
    "        writer = csv.writer(f, delimiter = \",\")\n",
    "        print(\"To register, please enter your info:\")\n",
    "        email = input(\"E-mail:\")\n",
    "        password = input(\"Password: \")\n",
    "        password2 = input(\"Re-type password: \")\n",
    "        clear_output()\n",
    "        if password == password2:\n",
    "            writer.writerow ([email, password])\n",
    "            print(\"You are now registered! \")\n",
    "        else:\n",
    "            print(\"Something went wrong. Try again.\")\n",
    "\n",
    "# ask for user login and return true to login or false if incorrect info\n",
    "def loginUser():\n",
    "    print(\"To login, please enter your info:\")\n",
    "    email = input(\"E-mail: \")\n",
    "    password = input(\"Password: \")\n",
    "    clear_output()\n",
    "    \n",
    "    with open(\"users.csv\", mode = \"r\") as f:\n",
    "        reader = csv.reader(f, delimiter = \",\")\n",
    "        for row in reader:\n",
    "            if row == [email, password]:\n",
    "                print(\"You are now logged in!\")\n",
    "                return True\n",
    "    print(\"Something went wrong, try again.\")\n",
    "    return False\n",
    "\n",
    "# variables for main loop\n",
    "active = True\n",
    "logged_in = False\n",
    "\n",
    "# main loop\n",
    "while active:\n",
    "    if logged_in:\n",
    "        print(\"1. Logout\\n2. Quit\")\n",
    "    else:\n",
    "        print(\"1. Login\\n2. Register\\n3. Quit\")\n",
    "    choice = input(\"What would you like to do? \").lower( )\n",
    "    clear_output()\n",
    "    \n",
    "    if choice == \"register\" and logged_in == False:\n",
    "        registerUser()\n",
    "    elif choice == \"login\" and logged_in == False:\n",
    "        loginUser()\n",
    "    elif choice == \"quit\":\n",
    "        active = False\n",
    "        print (\"Thanks for using our software!\")\n",
    "    elif choice == \"logout\" and logged_in == True:\n",
    "        logged_in = False\n",
    "        print(\"You are now logged out.\")\n",
    "    else:\n",
    "        print(\"Sorry, please try again!\")"
   ]
  },
  {
   "cell_type": "code",
   "execution_count": null,
   "metadata": {},
   "outputs": [],
   "source": []
  }
 ],
 "metadata": {
  "kernelspec": {
   "display_name": "Python 3",
   "language": "python",
   "name": "python3"
  },
  "language_info": {
   "codemirror_mode": {
    "name": "ipython",
    "version": 3
   },
   "file_extension": ".py",
   "mimetype": "text/x-python",
   "name": "python",
   "nbconvert_exporter": "python",
   "pygments_lexer": "ipython3",
   "version": "3.7.6"
  }
 },
 "nbformat": 4,
 "nbformat_minor": 4
}