{
 "cells": [
  {
   "cell_type": "markdown",
   "metadata": {},
   "source": [
    "# Object-Oriented Programming"
   ]
  },
  {
   "cell_type": "markdown",
   "metadata": {},
   "source": [
    "### Creating and Instantiating a Class"
   ]
  },
  {
   "cell_type": "code",
   "execution_count": 1,
   "metadata": {},
   "outputs": [
    {
     "output_type": "error",
     "ename": "KeyError",
     "evalue": "' '",
     "traceback": [
      "\u001b[1;31m---------------------------------------------------------------------------\u001b[0m",
      "\u001b[1;31mKeyError\u001b[0m                                  Traceback (most recent call last)",
      "\u001b[1;32m<ipython-input-1-82feb3d5b3bd>\u001b[0m in \u001b[0;36m<module>\u001b[1;34m\u001b[0m\n\u001b[0;32m      1\u001b[0m \u001b[0mvalues\u001b[0m \u001b[1;33m=\u001b[0m \u001b[1;33m{\u001b[0m \u001b[1;36m4\u001b[0m\u001b[1;33m:\u001b[0m\u001b[1;36m4\u001b[0m\u001b[1;33m,\u001b[0m \u001b[1;36m8\u001b[0m\u001b[1;33m:\u001b[0m\u001b[1;36m8\u001b[0m\u001b[1;33m,\u001b[0m \u001b[1;34m\"Q\"\u001b[0m\u001b[1;33m:\u001b[0m\u001b[1;36m10\u001b[0m\u001b[1;33m,\u001b[0m \u001b[1;34m\"ACE\"\u001b[0m\u001b[1;33m:\u001b[0m\u001b[1;36m11\u001b[0m \u001b[1;33m}\u001b[0m\u001b[1;33m\u001b[0m\u001b[1;33m\u001b[0m\u001b[0m\n\u001b[0;32m      2\u001b[0m \u001b[0mcard\u001b[0m \u001b[1;33m=\u001b[0m \u001b[1;33m(\u001b[0m\u001b[1;34m\"Q\"\u001b[0m\u001b[1;33m,\u001b[0m \u001b[1;34m\"Hearts\"\u001b[0m\u001b[1;33m)\u001b[0m\u001b[1;33m\u001b[0m\u001b[1;33m\u001b[0m\u001b[0m\n\u001b[1;32m----> 3\u001b[1;33m \u001b[0mprint\u001b[0m\u001b[1;33m(\u001b[0m\u001b[1;34m\"{ }\"\u001b[0m\u001b[1;33m.\u001b[0m\u001b[0mformat\u001b[0m\u001b[1;33m(\u001b[0m\u001b[0mvalues\u001b[0m\u001b[1;33m[\u001b[0m\u001b[0mcard\u001b[0m\u001b[1;33m[\u001b[0m\u001b[1;36m0\u001b[0m\u001b[1;33m]\u001b[0m\u001b[1;33m]\u001b[0m\u001b[1;33m)\u001b[0m\u001b[1;33m)\u001b[0m\u001b[1;33m\u001b[0m\u001b[1;33m\u001b[0m\u001b[0m\n\u001b[0m",
      "\u001b[1;31mKeyError\u001b[0m: ' '"
     ]
    }
   ],
   "source": [
    "values = { 4:4, 8:8, \"Q\":10, \"ACE\":11 }\n",
    "card = (\"Q\", \"Hearts\")\n",
    "print(\"{ }\".format(values[card[0]]))"
   ]
  },
  {
   "cell_type": "markdown",
   "metadata": {},
   "source": [
    "#### Creating a Class"
   ]
  },
  {
   "cell_type": "code",
   "execution_count": 1,
   "metadata": {},
   "outputs": [],
   "source": [
    "# creating your first class\n",
    "class Car():\n",
    "    pass"
   ]
  },
  {
   "cell_type": "markdown",
   "metadata": {},
   "source": [
    "#### Creating an Instance"
   ]
  },
  {
   "cell_type": "code",
   "execution_count": 3,
   "metadata": {},
   "outputs": [
    {
     "name": "stdout",
     "output_type": "stream",
     "text": [
      "<__main__.Car object at 0x000001CDEA497748>\n"
     ]
    }
   ],
   "source": [
    "# instantiating an object from a class\n",
    "class Car():\n",
    "    pass\n",
    "ford = Car()\n",
    "print(ford)"
   ]
  },
  {
   "cell_type": "markdown",
   "metadata": {},
   "source": [
    "#### Creating Multiple Instances"
   ]
  },
  {
   "cell_type": "code",
   "execution_count": 4,
   "metadata": {},
   "outputs": [
    {
     "name": "stdout",
     "output_type": "stream",
     "text": [
      "-9223371912860361672\n",
      "-9223371912860361668\n"
     ]
    }
   ],
   "source": [
    "# instantiating multiple objects from the same class\n",
    "class Car():\n",
    "    pass\n",
    "ford = Car()\n",
    "subaru = Car()\n",
    "print(hash(ford))\n",
    "print(hash(subaru))"
   ]
  },
  {
   "cell_type": "markdown",
   "metadata": {},
   "source": [
    "### MONDAY EXERCISES"
   ]
  },
  {
   "cell_type": "markdown",
   "metadata": {},
   "source": [
    "#### 1. Animals: \n",
    "Create a class called “animals,” and create two instances from it. Use\n",
    "two variables with names of “lion” and “tiger.”"
   ]
  },
  {
   "cell_type": "code",
   "execution_count": 9,
   "metadata": {},
   "outputs": [
    {
     "name": "stdout",
     "output_type": "stream",
     "text": [
      "<__main__.animals object at 0x000001CDEA4A3308>\n"
     ]
    }
   ],
   "source": [
    "class animals():\n",
    "    pass\n",
    "lion = animals()\n",
    "tiger = animals()\n",
    "print(lion)"
   ]
  },
  {
   "cell_type": "markdown",
   "metadata": {},
   "source": [
    "##### 2. Problem-Solving:\n",
    "What’s wrong with the following code?\n",
    "#### class Bus:\n",
    "\n",
    "pass\n",
    "school_bus = Bus()"
   ]
  },
  {
   "cell_type": "code",
   "execution_count": 10,
   "metadata": {},
   "outputs": [],
   "source": [
    "# nothing wrong with the code, () are optional for defining class"
   ]
  },
  {
   "cell_type": "markdown",
   "metadata": {},
   "source": [
    "### Attributes"
   ]
  },
  {
   "cell_type": "markdown",
   "metadata": {},
   "source": [
    "#### Declaring and Accessing Attributes"
   ]
  },
  {
   "cell_type": "code",
   "execution_count": 19,
   "metadata": {},
   "outputs": [
    {
     "name": "stdout",
     "output_type": "stream",
     "text": [
      "beep red\n"
     ]
    }
   ],
   "source": [
    "# how to define a class attribute\n",
    "class Car():\n",
    "    sound = \"beep\"\n",
    "    color = \"red\"\n",
    "ford = Car()\n",
    "print(ford.sound, ford.color)"
   ]
  },
  {
   "cell_type": "markdown",
   "metadata": {},
   "source": [
    "#### Changing an Instance Attributes"
   ]
  },
  {
   "cell_type": "code",
   "execution_count": 21,
   "metadata": {},
   "outputs": [
    {
     "name": "stdout",
     "output_type": "stream",
     "text": [
      "beep\n",
      "honk\n"
     ]
    }
   ],
   "source": [
    "# changing the value of an attribute\n",
    "class Car():\n",
    "    sound = \"beep\"\n",
    "    color = \"red\"\n",
    "ford = Car()\n",
    "print(ford.sound)\n",
    "ford.sound = \"honk\"\n",
    "print(ford.sound)"
   ]
  },
  {
   "cell_type": "markdown",
   "metadata": {},
   "source": [
    "#### Using the __init__( ) Method"
   ]
  },
  {
   "cell_type": "code",
   "execution_count": 27,
   "metadata": {},
   "outputs": [
    {
     "name": "stdout",
     "output_type": "stream",
     "text": [
      "blue honK\n",
      "pink beep\n"
     ]
    }
   ],
   "source": [
    "# using the init method to give instances personalized attributes upon creation\n",
    "class Car():\n",
    "    def __init__(self, color, sound):\n",
    "        self.color = color\n",
    "        self.sound = sound\n",
    "ford = Car(\"blue\", \"honK\")\n",
    "subaru = Car(\"pink\", \"beep\")\n",
    "print(ford.color, ford.sound)\n",
    "print(subaru.color, subaru.sound)"
   ]
  },
  {
   "cell_type": "code",
   "execution_count": 36,
   "metadata": {},
   "outputs": [],
   "source": [
    "# Did not understand the code below"
   ]
  },
  {
   "cell_type": "code",
   "execution_count": 34,
   "metadata": {},
   "outputs": [
    {
     "name": "stdout",
     "output_type": "stream",
     "text": [
      "Hello my name is John 36\n"
     ]
    }
   ],
   "source": [
    "class Person:\n",
    "  def __init__(mysillyobject, name, age):\n",
    "    mysillyobject.name = name\n",
    "    mysillyobject.age = age\n",
    "\n",
    "  def myfunc(abc):\n",
    "    print(\"Hello my name is \" + abc.name, abc.age)\n",
    "\n",
    "p1 = Person(\"John\", 36)\n",
    "p1.myfunc()"
   ]
  },
  {
   "cell_type": "markdown",
   "metadata": {},
   "source": [
    "### TUESDAY EXERCISES"
   ]
  },
  {
   "cell_type": "markdown",
   "metadata": {},
   "source": [
    "#### 1. Dogs: \n",
    "Create a Dog class that has one global attribute and two instance level\n",
    "attributes. the global attribute should be “species” with a value of “Canine.”\n",
    "the two instance attributes should be “name” and “breed.” then instantiate\n",
    "two dog objects, a Husky named Sammi and a Chocolate Lab named Casey."
   ]
  },
  {
   "cell_type": "code",
   "execution_count": 8,
   "metadata": {},
   "outputs": [
    {
     "data": {
      "text/plain": [
       "'Sammi'"
      ]
     },
     "execution_count": 8,
     "metadata": {},
     "output_type": "execute_result"
    }
   ],
   "source": [
    "class Dog():\n",
    "    species = \"Canine\"\n",
    "    def __init__(self, name, breed):\n",
    "        self.name = name\n",
    "        self.breed = breed\n",
    "dog1 = Dog('Sammi', 'Husky')\n",
    "dog2 = Dog('Casey', 'Chocolate Lab')\n",
    "\n",
    "dog1.name"
   ]
  },
  {
   "cell_type": "markdown",
   "metadata": {},
   "source": [
    "#### 2. User Input:\n",
    "Create a Person class that has a single instance level attribute of\n",
    "“name.” ask the user to input their name, and create an instance of the Person\n",
    "class with the name they typed in. then print out their name."
   ]
  },
  {
   "cell_type": "code",
   "execution_count": 7,
   "metadata": {},
   "outputs": [
    {
     "name": "stdout",
     "output_type": "stream",
     "text": [
      "What is your name: eam\n",
      "eam\n"
     ]
    }
   ],
   "source": [
    "class Person():\n",
    "    def __init__(self, name):\n",
    "        self.name = name\n",
    "name = input(\"What is your name: \" )\n",
    "p = Person(name)\n",
    "print(p.name)"
   ]
  },
  {
   "cell_type": "markdown",
   "metadata": {},
   "source": [
    "# Methods"
   ]
  },
  {
   "cell_type": "markdown",
   "metadata": {},
   "source": [
    "#### Defining and Calling a Method"
   ]
  },
  {
   "cell_type": "code",
   "execution_count": 7,
   "metadata": {},
   "outputs": [
    {
     "name": "stdout",
     "output_type": "stream",
     "text": [
      "bark\n"
     ]
    }
   ],
   "source": [
    "# defining and calling our first method\n",
    "class Dog():\n",
    "    def makeSound(self):\n",
    "        print(\"bark\")\n",
    "sam = Dog()\n",
    "sam.makeSound()"
   ]
  },
  {
   "cell_type": "markdown",
   "metadata": {},
   "source": [
    "#### Accessing Class Attributes in Methods"
   ]
  },
  {
   "cell_type": "code",
   "execution_count": 2,
   "metadata": {},
   "outputs": [
    {
     "name": "stdout",
     "output_type": "stream",
     "text": [
      "bark\n"
     ]
    }
   ],
   "source": [
    "#using the self keyword to access attributes within class methodss\n",
    "class Dog():\n",
    "    sound = \"bark\"\n",
    "    def makeSound(self):\n",
    "        print(self.sound)\n",
    "\n",
    "sam = Dog()\n",
    "sam.makeSound()"
   ]
  },
  {
   "cell_type": "markdown",
   "metadata": {},
   "source": [
    "#### Method Scope"
   ]
  },
  {
   "cell_type": "code",
   "execution_count": 10,
   "metadata": {},
   "outputs": [
    {
     "name": "stdout",
     "output_type": "stream",
     "text": [
      "I am a dog\n",
      "bark\n"
     ]
    }
   ],
   "source": [
    "# understanding which methods are accessible via the class itself and class instances\n",
    "class Dog():\n",
    "    sound = \"bark\"\n",
    "    def makeSound(self):\n",
    "        print(self.sound)\n",
    "    def printInfo():\n",
    "        print(\"I am a dog\")\n",
    "Dog.printInfo()\n",
    "#Dog.makesound()\n",
    "\n",
    "sam = Dog()\n",
    "sam.makeSound()   \n",
    "#sam.printInfo()"
   ]
  },
  {
   "cell_type": "markdown",
   "metadata": {},
   "source": [
    "#### Passing Arguments into Methods"
   ]
  },
  {
   "cell_type": "code",
   "execution_count": 12,
   "metadata": {},
   "outputs": [
    {
     "name": "stdout",
     "output_type": "stream",
     "text": [
      "6\n"
     ]
    }
   ],
   "source": [
    "# writing methods that accepts parameters\n",
    "class Dog():\n",
    "    def showAge(self, age):\n",
    "        print(age)\n",
    "        \n",
    "sam = Dog()\n",
    "sam.showAge(6)"
   ]
  },
  {
   "cell_type": "markdown",
   "metadata": {},
   "source": [
    "#### Using Setters and Getters"
   ]
  },
  {
   "cell_type": "code",
   "execution_count": 14,
   "metadata": {},
   "outputs": [
    {
     "name": "stdout",
     "output_type": "stream",
     "text": [
      "Sammi\n"
     ]
    }
   ],
   "source": [
    "# using methods to set or return attribute values, proper programming practice\n",
    "class Dog():\n",
    "    name = \"\"\n",
    "    \n",
    "    def setName(self, new_name):\n",
    "        self.name = new_name\n",
    "    \n",
    "    def getName(self):\n",
    "        return self.name\n",
    "    \n",
    "sam = Dog()\n",
    "sam.setName(\"Sammi\")\n",
    "print(sam.getName())"
   ]
  },
  {
   "cell_type": "markdown",
   "metadata": {},
   "source": [
    "#### Incrementing Attributes with Methods"
   ]
  },
  {
   "cell_type": "code",
   "execution_count": 21,
   "metadata": {},
   "outputs": [
    {
     "name": "stdout",
     "output_type": "stream",
     "text": [
      "6\n"
     ]
    }
   ],
   "source": [
    "# incrementing/ decrementing attribute values with methods, best programming practice\n",
    "class Dog():\n",
    "    age = 5\n",
    "    def happyBirthday(self):\n",
    "        self.age += 1\n",
    "\n",
    "sam = Dog()\n",
    "sam.happyBirthday()\n",
    "print(sam.age)"
   ]
  },
  {
   "cell_type": "markdown",
   "metadata": {},
   "source": [
    "#### Methods Calling Methods"
   ]
  },
  {
   "cell_type": "code",
   "execution_count": 28,
   "metadata": {},
   "outputs": [
    {
     "name": "stdout",
     "output_type": "stream",
     "text": [
      "Puppy!\n"
     ]
    }
   ],
   "source": [
    "# calling a class method from another method\n",
    "class Dog():\n",
    "    age = 6\n",
    "    def getAge(self):\n",
    "        return self.age\n",
    "    def printInfo(self):\n",
    "        if self.getAge() < 10:\n",
    "            print(\"Puppy!\")\n",
    "    \n",
    "sam = Dog()\n",
    "sam.printInfo()"
   ]
  },
  {
   "cell_type": "markdown",
   "metadata": {},
   "source": [
    "#### Magic Methods"
   ]
  },
  {
   "cell_type": "code",
   "execution_count": 29,
   "metadata": {},
   "outputs": [
    {
     "name": "stdout",
     "output_type": "stream",
     "text": [
      "This is a Dog class\n"
     ]
    }
   ],
   "source": [
    "# using magic methods\n",
    "class Dog():\n",
    "    def __str__(self):\n",
    "        return \"This is a Dog class\"\n",
    "sam = Dog()\n",
    "print(sam)"
   ]
  },
  {
   "cell_type": "markdown",
   "metadata": {},
   "source": [
    "### WEDNESDAY EXERCISES"
   ]
  },
  {
   "cell_type": "markdown",
   "metadata": {},
   "source": [
    "#### 1. Animals: \n",
    "Create a class definition of an animal that has a species attribute and\n",
    "both a setter and getter to change or access the attributes value. Create an\n",
    "instance called “lion,” and call the setter method with an argument of “feline.”\n",
    "then print out the species by calling the getter method."
   ]
  },
  {
   "cell_type": "code",
   "execution_count": 38,
   "metadata": {},
   "outputs": [
    {
     "data": {
      "text/plain": [
       "'Feline'"
      ]
     },
     "execution_count": 38,
     "metadata": {},
     "output_type": "execute_result"
    }
   ],
   "source": [
    "class animal():\n",
    "    species = \"Canine\"\n",
    "    \n",
    "    def setSpecies (self, species):\n",
    "        self.species = species\n",
    "    def getSpecies(self):\n",
    "        return self.species\n",
    "\n",
    "Lion = animal()\n",
    "Lion.setSpecies(\"Feline\")\n",
    "Lion.getSpecies()"
   ]
  },
  {
   "cell_type": "markdown",
   "metadata": {},
   "source": [
    "#### 2. User Input: \n",
    "Create a class Person that takes in a name when instantiated but\n",
    "sets an age to 0. Within the class definition setup, a setter and getter that will\n",
    "ask the user to input their age and set the age attribute to the value input.\n",
    "then output the information in a formatted string as “You are 64 years old.”\n",
    "assuming the user inputs 64 as their age."
   ]
  },
  {
   "cell_type": "code",
   "execution_count": 2,
   "metadata": {},
   "outputs": [
    {
     "name": "stdout",
     "output_type": "stream",
     "text": [
      "How old are you?52\n",
      "You are 52 years old.\n"
     ]
    }
   ],
   "source": [
    "class Person():\n",
    "    def __init__(self, name):\n",
    "        self.age = 0\n",
    "        self.name=name\n",
    "    def setAge(self, age):\n",
    "        self.age=age\n",
    "    def getAge(self):\n",
    "        return self.age\n",
    "p=Person(\"Kathy\")\n",
    "num = input(\"How old are you?\")\n",
    "p.setAge(num)\n",
    "print(\"You are {} years old.\".format(p.getAge()))"
   ]
  },
  {
   "cell_type": "markdown",
   "metadata": {},
   "source": [
    "# Inheritance"
   ]
  },
  {
   "cell_type": "markdown",
   "metadata": {},
   "source": [
    "#### Inheriting a Class"
   ]
  },
  {
   "cell_type": "code",
   "execution_count": 27,
   "metadata": {},
   "outputs": [
    {
     "name": "stdout",
     "output_type": "stream",
     "text": [
      "roar\n"
     ]
    },
    {
     "data": {
      "text/plain": [
       "'Canine'"
      ]
     },
     "execution_count": 27,
     "metadata": {},
     "output_type": "execute_result"
    }
   ],
   "source": [
    "# inheriting a class and accessing the inherited method\n",
    "class Animal():\n",
    "    def makeSound(self):\n",
    "        print(\"roar\")\n",
    "    \n",
    "\n",
    "class Dog(Animal):\n",
    "    species = \"Canine\"\n",
    "\n",
    "sam = Dog()\n",
    "sam.makeSound()\n",
    "#lion = Animal()\n",
    "Dog.species\n",
    "#lion.species"
   ]
  },
  {
   "cell_type": "markdown",
   "metadata": {},
   "source": [
    "#### Using the super( ) Method"
   ]
  },
  {
   "cell_type": "code",
   "execution_count": 29,
   "metadata": {},
   "outputs": [
    {
     "data": {
      "text/plain": [
       "'Canine'"
      ]
     },
     "execution_count": 29,
     "metadata": {},
     "output_type": "execute_result"
    }
   ],
   "source": [
    "#using the super() method to declare inherited atttibutes\n",
    "class Animal():\n",
    "    def __init__ (self, species):\n",
    "        self.species = species\n",
    "\n",
    "class Dog(Animal):\n",
    "    def __init__ (self, species, name):\n",
    "        self.name = name\n",
    "        super(). __init__ (species)\n",
    "\n",
    "sam = Dog(\"Canine\", \"Sammi\")\n",
    "sam.species"
   ]
  },
  {
   "cell_type": "markdown",
   "metadata": {},
   "source": [
    "#### Method Overriding"
   ]
  },
  {
   "cell_type": "code",
   "execution_count": 30,
   "metadata": {},
   "outputs": [
    {
     "name": "stdout",
     "output_type": "stream",
     "text": [
      "bark\n",
      "roar\n"
     ]
    }
   ],
   "source": [
    "# overriding methods defined in the superclass\n",
    "class Animal():\n",
    "    def makeSound(self):\n",
    "        print(\"roar\")\n",
    "class Dog(Animal):\n",
    "    def makeSound(self):\n",
    "        print(\"bark\")\n",
    "        \n",
    "sam, lion = Dog(), Animal()\n",
    "sam.makeSound()\n",
    "lion.makeSound()"
   ]
  },
  {
   "cell_type": "markdown",
   "metadata": {},
   "source": [
    "#### Inheriting Multiple Classes"
   ]
  },
  {
   "cell_type": "code",
   "execution_count": 31,
   "metadata": {},
   "outputs": [
    {
     "name": "stdout",
     "output_type": "stream",
     "text": [
      "9.8 Ford\n"
     ]
    }
   ],
   "source": [
    "# how to inherit multiple classes\n",
    "class Physics():\n",
    "    gravity = 9.8\n",
    "    \n",
    "class Automobile():\n",
    "    def __init__(self, make, model, year):\n",
    "        self.make, self.model, self.year = make, model, year\n",
    "\n",
    "class Ford(Physics, Automobile):\n",
    "    def __init__(self, model, year):\n",
    "        Automobile. __init__ (self, \"Ford\", model, year)\n",
    "\n",
    "truck = Ford(\"F-150\", 2018)\n",
    "print(truck.gravity, truck.make)"
   ]
  },
  {
   "cell_type": "markdown",
   "metadata": {},
   "source": [
    "### THURSDAY EXERCISES"
   ]
  },
  {
   "cell_type": "markdown",
   "metadata": {},
   "source": [
    "<p>\n",
    "1. <b>Good Guys/Bad Guys:</b> Create three classes, a superclass called \"Characters\" that will be defined with the following attributes and methods: <br><br>\n",
    "a. Attributes: name, team, height, weight <br>\n",
    "b. Methods: sayHello <br><br>\n",
    "\n",
    "The sayHello method should output the statement \"Hello, my name is Max and I'm on the good guys.\". The team attribute should be declared to a string of either \"good\" or \"bad\". The other two classes, which will be subclasses, will be all the attributes that the superclass requires. The subclasses do not need any other methods or attributes. Instantiate one player on each team and call the sayHello method for each. The output should result in the following:\n",
    "</p>\n",
    "\n",
    "<p>\n",
    ">>> \"Hello, my name is Max and I'm on the good guys\" <br>\n",
    ">>> \"Hello, my name is Tony and I'm on the bad guys\" \n",
    "</p>"
   ]
  },
  {
   "cell_type": "code",
   "execution_count": 37,
   "metadata": {
    "scrolled": true
   },
   "outputs": [
    {
     "name": "stdout",
     "output_type": "stream",
     "text": [
      "my name is Max, I'm on the good team\n",
      "my name is Tony, I'm on the bad team\n"
     ]
    }
   ],
   "source": [
    "class Characters():\n",
    "    def __init__ (self, name, team, height, weight):\n",
    "        self.name, self.team, self.height, self.weight = name, team, height, weight\n",
    "    \n",
    "    def sayHello(self):\n",
    "        print(\"my name is {}, I'm on the {} team\".format(self.name, self.team))\n",
    "    \n",
    "class Good(Characters):\n",
    "    def __init__ (self, name, height, weight):\n",
    "        super(). __init__ (name, 'good', height, weight)\n",
    "    \n",
    "class Bad(Characters):\n",
    "    def __init__ (self, name, height, weight):\n",
    "        super(). __init__ (name, 'bad', height, weight)\n",
    "        \n",
    "Char1 = Good(\"Max\", '5/11\"', 183)\n",
    "Char2 = Bad(\"Tony\", '6/03\"', 201)\n",
    "\n",
    "Char1.sayHello()\n",
    "Char2.sayHello()"
   ]
  },
  {
   "cell_type": "markdown",
   "metadata": {},
   "source": [
    "# Friday Project: Creating Blackjack."
   ]
  },
  {
   "cell_type": "code",
   "execution_count": 3,
   "metadata": {},
   "outputs": [
    {
     "name": "stdout",
     "output_type": "stream",
     "text": [
      "\n",
      "c\n",
      "==================\n",
      "2 of Diamonds\n",
      "7 of Spades\n",
      "K of Clubs\n",
      "5 of Clubs\n",
      "2 of Spades\n",
      "3 of Spades\n",
      "4 of Clubs\n",
      "Q of Hearts\n",
      "3 of Diamonds\n",
      "Total = 3\n",
      "\n",
      "Dealer\n",
      "==================\n",
      "6 of Spades\n",
      "J of Clubs\n",
      "7 of Diamonds\n",
      "8 of Hearts\n",
      "9 of Diamonds\n",
      "5 of Diamonds\n",
      "8 of Spades\n",
      "7 of Clubs\n",
      "Q of Diamonds\n",
      "2 of Hearts\n",
      "7 of Hearts\n",
      "8 of Diamonds\n",
      "K of Hearts\n",
      "J of Diamonds\n",
      "J of Hearts\n",
      "9 of Spades\n",
      "6 of Hearts\n",
      "A of Hearts\n",
      "A of Spades\n",
      "J of Spades\n",
      "Total = 22\n",
      "The dealer busted, you win!\n"
     ]
    }
   ],
   "source": [
    "# import necessary functions\n",
    "from random import randint\n",
    "from IPython.display import clear_output\n",
    "\n",
    "# create the blackjack class, which will hold all game methods and attributes\n",
    "class Blackjack():\n",
    "    def __init__(self):\n",
    "        self.deck = []  #set to an empty list\n",
    "        self.suits = (\"Spades\", \"Hearts\", \"Diamonds\", \"Clubs\")\n",
    "        self.values = (2, 3, 4, 5, 6, 7, 8, 9, 10, 'J', 'Q', 'K', 'A')\n",
    "        \n",
    "    # create a method that creates a deck of 52 cards, each card should be a tuple with a value and suit\n",
    "    def makeDeck(self):\n",
    "        for suit in self.suits:\n",
    "            for value in self.values:\n",
    "                self.deck.append((value, suit))  #eg: (7, \"Hearts\")\n",
    "    \n",
    "    # method to pop a card from deck using a random index value\n",
    "    def pullCard(self):\n",
    "        return self.deck.pop(randint(0, len(self.deck) - 1))\n",
    "    \n",
    "# create a class for the dealer and player objects\n",
    "class Player():\n",
    "    def __init__(self, name):\n",
    "        self.name = name\n",
    "        self.hand = []\n",
    "    \n",
    "    #take in a tup;e and append it to the hand\n",
    "    def addCard(self, card):\n",
    "        self.hand.append(card)\n",
    "    \n",
    "    # if not dealer's tuen , then only show one of his cards, otherwise show all cards\n",
    "    def showHand(self, dealer_start = True):\n",
    "        print(\"\\n{}\".format(self.name))\n",
    "        print(\"==================\")\n",
    "        \n",
    "        for i in range(len(self.hand)):\n",
    "            if self.name == \"Dealer\" and i == 0 and dealer_start:\n",
    "                print(\"- of -\") # hide 1st card\n",
    "            else:\n",
    "                card = self.hand[i]\n",
    "                print(\"{} of {}\".format(card[0], card[1]))\n",
    "        print(\"Total = {}\".format(self.calcHand(dealer_start)))\n",
    "    \n",
    "    # if not dealer's turn then only give back total of 2nd card\n",
    "    def calcHand(self, dealer_start = True):\n",
    "        total = 0\n",
    "        aces = 0 # calculate aces afterwards\n",
    "        card_values = {1:1, 2:2, 3:3, 4:4, 5:5, 6:6, 7:7, 8:8, 9:9, 10:10, 'J':10, 'Q':10, 'K':10, 'A':11}\n",
    "                \n",
    "        if self.name == \"Dealer\" and dealer_start:\n",
    "            card = self.hand[1]\n",
    "            return card_values[card[0]]\n",
    "\n",
    "        for card in self.hand:\n",
    "            if card[0] == 'A':\n",
    "                aces += 1\n",
    "        else:\n",
    "            total += card_values[card[0]]\n",
    "        \n",
    "        for i in range(aces):\n",
    "            if total + 11 > 21:\n",
    "                total += 1\n",
    "            else:\n",
    "                total += 11\n",
    "        return total\n",
    "    \n",
    "game = Blackjack()\n",
    "game.makeDeck()\n",
    "\n",
    "name = input(\"What is your name?\")\n",
    "player = Player(name)\n",
    "dealer = Player(\"Dealer\")\n",
    "\n",
    "# add two cards to the dealer and player hand\n",
    "for i in range(2):\n",
    "    player.addCard(game.pullCard())\n",
    "    dealer.addCard(game.pullCard())\n",
    "\n",
    "# show both hands using method\n",
    "player.showHand()\n",
    "dealer.showHand()\n",
    "\n",
    "player_bust = False\n",
    "\n",
    "while input(\"Would you like to stay or hit? \").lower() != \"stay\":\n",
    "    clear_output()\n",
    "    \n",
    "    #pull card and put into player's hand\n",
    "    player.addCard(game.pullCard())\n",
    "    \n",
    "    # show both hands using method\n",
    "    player.showHand()\n",
    "    dealer.showHand()\n",
    "    \n",
    "    #check if over 21\n",
    "    if player.calcHand() > 21:\n",
    "        player_bust = True\n",
    "        break\n",
    "\n",
    "#handling the dealer's turn, only run if player didn't bust\n",
    "dealer_bust = False\n",
    "\n",
    "if not player_bust:\n",
    "    while dealer.calcHand(False) < 17:\n",
    "        \n",
    "        #pull card and put into player's hand\n",
    "        dealer.addCard(game.pullCard())\n",
    "        \n",
    "        # check if over 21\n",
    "        if dealer.calcHand(False) > 21:\n",
    "            dealer_bust = True\n",
    "            break\n",
    "\n",
    "clear_output()\n",
    "\n",
    "#show both hands using method\n",
    "player.showHand()\n",
    "dealer.showHand(False)\n",
    "\n",
    "# calculate a winner\n",
    "if player_bust:\n",
    "    print(\"You busted, better luck next time!\")\n",
    "elif dealer_bust:\n",
    "    print('The dealer busted, you win!')\n",
    "elif dealer.calcHand(False) > player.calcHand():\n",
    "    print('Dealer has higher cards, you lose!')\n",
    "elif dealer.calcHand(False) < player.calcHand():\n",
    "    print('You beat the dealer! Congrats!')\n",
    "else:\n",
    "    print('You pushed, no one wins!')"
   ]
  },
  {
   "cell_type": "code",
   "execution_count": null,
   "metadata": {},
   "outputs": [],
   "source": []
  }
 ],
 "metadata": {
  "kernelspec": {
   "display_name": "Python 3",
   "language": "python",
   "name": "python3"
  },
  "language_info": {
   "codemirror_mode": {
    "name": "ipython",
    "version": 3
   },
   "file_extension": ".py",
   "mimetype": "text/x-python",
   "name": "python",
   "nbconvert_exporter": "python",
   "pygments_lexer": "ipython3",
   "version": "3.7.6"
  }
 },
 "nbformat": 4,
 "nbformat_minor": 4
}