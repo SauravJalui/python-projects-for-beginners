{
 "cells": [
  {
   "cell_type": "markdown",
   "metadata": {},
   "source": [
    "# User Input and Conditionals"
   ]
  },
  {
   "cell_type": "markdown",
   "metadata": {},
   "source": [
    "#### CHALLENGE QUESTION"
   ]
  },
  {
   "cell_type": "markdown",
   "metadata": {},
   "source": [
    "##### This week’s challenge is to test your ability to read code. I want you to read the code block and think about whether it will work or not. If you believe it will not work, I want you to make a note of why it won’t. It’s important to be able to both read and write: \n",
    "##### >>> print('{} is my favorite sport'.format(element)) \n",
    "##### >>> element = 'Football' \n",
    "After you’ve written down your answer, go ahead and run the code within a cell. If your answer was incorrect, try to analyze where you why"
   ]
  },
  {
   "cell_type": "code",
   "execution_count": 1,
   "metadata": {},
   "outputs": [
    {
     "ename": "NameError",
     "evalue": "name 'element' is not defined",
     "output_type": "error",
     "traceback": [
      "\u001b[1;31m---------------------------------------------------------------------------\u001b[0m",
      "\u001b[1;31mNameError\u001b[0m                                 Traceback (most recent call last)",
      "\u001b[1;32m<ipython-input-1-97168651750b>\u001b[0m in \u001b[0;36m<module>\u001b[1;34m\u001b[0m\n\u001b[1;32m----> 1\u001b[1;33m \u001b[0mprint\u001b[0m\u001b[1;33m(\u001b[0m\u001b[1;34m'{} is my favorite sport'\u001b[0m\u001b[1;33m.\u001b[0m\u001b[0mformat\u001b[0m\u001b[1;33m(\u001b[0m\u001b[0melement\u001b[0m\u001b[1;33m)\u001b[0m\u001b[1;33m)\u001b[0m\u001b[1;33m\u001b[0m\u001b[1;33m\u001b[0m\u001b[0m\n\u001b[0m\u001b[0;32m      2\u001b[0m \u001b[0melement\u001b[0m \u001b[1;33m=\u001b[0m \u001b[1;34m'Football'\u001b[0m\u001b[1;33m\u001b[0m\u001b[1;33m\u001b[0m\u001b[0m\n",
      "\u001b[1;31mNameError\u001b[0m: name 'element' is not defined"
     ]
    }
   ],
   "source": [
    "print('{} is my favorite sport'.format(element))\n",
    "element = 'Football' #wont ron as element is to be defined bedore printing"
   ]
  },
  {
   "cell_type": "markdown",
   "metadata": {},
   "source": [
    "### User Input and Type Converting"
   ]
  },
  {
   "cell_type": "markdown",
   "metadata": {},
   "source": [
    "##### Accepting User Input"
   ]
  },
  {
   "cell_type": "code",
   "execution_count": 3,
   "metadata": {},
   "outputs": [
    {
     "name": "stdout",
     "output_type": "stream",
     "text": [
      "What is your name?Saurav\n",
      "Saurav\n"
     ]
    }
   ],
   "source": [
    "# accepting and outputting user input\n",
    "print(input(\"What is your name?\"))"
   ]
  },
  {
   "cell_type": "markdown",
   "metadata": {},
   "source": [
    "##### Storing User Input"
   ]
  },
  {
   "cell_type": "code",
   "execution_count": 6,
   "metadata": {},
   "outputs": [
    {
     "name": "stdout",
     "output_type": "stream",
     "text": [
      "What is your name?Saurav\n",
      "Hello Saurav!\n"
     ]
    }
   ],
   "source": [
    "# saving what the user inputs\n",
    "ans = input(\"What is your name?\")\n",
    "print(\"Hello {}!\".format(ans))"
   ]
  },
  {
   "cell_type": "markdown",
   "metadata": {},
   "source": [
    "##### Type Converting"
   ]
  },
  {
   "cell_type": "code",
   "execution_count": 7,
   "metadata": {},
   "outputs": [
    {
     "name": "stdout",
     "output_type": "stream",
     "text": [
      "enter!25\n",
      "Hello25!\n"
     ]
    },
    {
     "ename": "TypeError",
     "evalue": "can only concatenate str (not \"int\") to str",
     "output_type": "error",
     "traceback": [
      "\u001b[1;31m---------------------------------------------------------------------------\u001b[0m",
      "\u001b[1;31mTypeError\u001b[0m                                 Traceback (most recent call last)",
      "\u001b[1;32m<ipython-input-7-f134be6fa045>\u001b[0m in \u001b[0;36m<module>\u001b[1;34m\u001b[0m\n\u001b[0;32m      1\u001b[0m \u001b[0ma\u001b[0m\u001b[1;33m=\u001b[0m\u001b[0minput\u001b[0m\u001b[1;33m(\u001b[0m\u001b[1;34m\"enter!\"\u001b[0m\u001b[1;33m)\u001b[0m \u001b[1;31m#whatever the user enters it is taken as string\u001b[0m\u001b[1;33m\u001b[0m\u001b[1;33m\u001b[0m\u001b[0m\n\u001b[0;32m      2\u001b[0m \u001b[0mprint\u001b[0m\u001b[1;33m(\u001b[0m\u001b[1;34m\"Hello{}!\"\u001b[0m\u001b[1;33m.\u001b[0m\u001b[0mformat\u001b[0m\u001b[1;33m(\u001b[0m\u001b[0ma\u001b[0m\u001b[1;33m)\u001b[0m\u001b[1;33m)\u001b[0m\u001b[1;33m\u001b[0m\u001b[1;33m\u001b[0m\u001b[0m\n\u001b[1;32m----> 3\u001b[1;33m \u001b[0mb\u001b[0m\u001b[1;33m=\u001b[0m\u001b[0ma\u001b[0m\u001b[1;33m+\u001b[0m\u001b[1;36m34\u001b[0m  \u001b[1;31m#So before converting it into int/float we cannot do calculations on it\u001b[0m\u001b[1;33m\u001b[0m\u001b[1;33m\u001b[0m\u001b[0m\n\u001b[0m\u001b[0;32m      4\u001b[0m \u001b[0mprint\u001b[0m\u001b[1;33m(\u001b[0m\u001b[0mb\u001b[0m\u001b[1;33m)\u001b[0m\u001b[1;33m\u001b[0m\u001b[1;33m\u001b[0m\u001b[0m\n",
      "\u001b[1;31mTypeError\u001b[0m: can only concatenate str (not \"int\") to str"
     ]
    }
   ],
   "source": [
    "a=input(\"enter!\") #whatever the user enters it is taken as string\n",
    "print(\"Hello{}!\".format(a))\n",
    "b=a+34  #So before converting it into int/float we cannot do calculations on it\n",
    "print(b)"
   ]
  },
  {
   "cell_type": "code",
   "execution_count": 8,
   "metadata": {},
   "outputs": [
    {
     "name": "stdout",
     "output_type": "stream",
     "text": [
      "enter!25\n",
      "Hello25!\n",
      "59\n"
     ]
    }
   ],
   "source": [
    "a=int(input(\"enter!\")) #whatever the user enters it is taken as string, so we use int() to convert it to int before proceeding\n",
    "print(\"Hello{}!\".format(a))\n",
    "b=a+34  #So before converting it into int/float we cannot do calculations on it\n",
    "print(b)"
   ]
  },
  {
   "cell_type": "markdown",
   "metadata": {},
   "source": [
    "##### Checking the Type"
   ]
  },
  {
   "cell_type": "code",
   "execution_count": 13,
   "metadata": {},
   "outputs": [
    {
     "name": "stdout",
     "output_type": "stream",
     "text": [
      "<class 'int'>\n"
     ]
    }
   ],
   "source": [
    "# how to check the data type of a variable\n",
    "num = 5\n",
    "print( type(num) ) #using print will output <class ''>"
   ]
  },
  {
   "cell_type": "code",
   "execution_count": 12,
   "metadata": {},
   "outputs": [
    {
     "data": {
      "text/plain": [
       "bool"
      ]
     },
     "execution_count": 12,
     "metadata": {},
     "output_type": "execute_result"
    }
   ],
   "source": [
    "type (True) # without using print it just displays the type"
   ]
  },
  {
   "cell_type": "markdown",
   "metadata": {},
   "source": [
    "##### Converting Data Types"
   ]
  },
  {
   "cell_type": "code",
   "execution_count": 14,
   "metadata": {},
   "outputs": [
    {
     "name": "stdout",
     "output_type": "stream",
     "text": [
      "<class 'int'>\n"
     ]
    }
   ],
   "source": [
    "# converting a variable from one datatype to another\n",
    "num=\"9\"\n",
    "num=int(num) #re-declaring num to store an integer\n",
    "print(type(num))"
   ]
  },
  {
   "cell_type": "markdown",
   "metadata": {},
   "source": [
    "##### Converting User Input"
   ]
  },
  {
   "cell_type": "code",
   "execution_count": 23,
   "metadata": {},
   "outputs": [
    {
     "name": "stdout",
     "output_type": "stream",
     "text": [
      "Enter a number to add: 100\n",
      "<class 'str'>\n",
      "100 + 100 = 200\n"
     ]
    }
   ],
   "source": [
    "# working with user input to perform calculations\n",
    "ans=input(\"Enter a number to add: \")\n",
    "print(type(ans))  #default type is string, must convert\n",
    "result=100+int(ans)\n",
    "print(\"100 + {} = {}\".format(ans,result))"
   ]
  },
  {
   "cell_type": "markdown",
   "metadata": {},
   "source": [
    "##### Handling errors"
   ]
  },
  {
   "cell_type": "code",
   "execution_count": 30,
   "metadata": {},
   "outputs": [
    {
     "name": "stdout",
     "output_type": "stream",
     "text": [
      "Type a number to add: 25\n",
      "100 + 25.0 = 125.0\n",
      "The program did not break\n"
     ]
    }
   ],
   "source": [
    "# using the try and except blocks, use tab to indent where necessary\n",
    "try:\n",
    "    ans=float(input(\"Type a number to add: \"))\n",
    "    print(\"100 + {} = {}\".format(ans, 100 + ans))\n",
    "except:\n",
    "    print(\"You did not put in a valid number!\")\n",
    "# without try/except print statement would not get hit if error occurs\n",
    "print(\"The program did not break\")\n"
   ]
  },
  {
   "cell_type": "markdown",
   "metadata": {},
   "source": [
    "##### Monday Exercises"
   ]
  },
  {
   "cell_type": "markdown",
   "metadata": {},
   "source": [
    "##### 1. Converting: \n",
    "Try converting a string of “True” to a boolean, and then output its\n",
    "type to make sure it converted properly."
   ]
  },
  {
   "cell_type": "code",
   "execution_count": 34,
   "metadata": {},
   "outputs": [
    {
     "name": "stdout",
     "output_type": "stream",
     "text": [
      "True\n"
     ]
    },
    {
     "data": {
      "text/plain": [
       "bool"
      ]
     },
     "execution_count": 34,
     "metadata": {},
     "output_type": "execute_result"
    }
   ],
   "source": [
    "a=\"True\"\n",
    "b=bool(a)\n",
    "print(b)\n",
    "type(b)"
   ]
  },
  {
   "cell_type": "markdown",
   "metadata": {},
   "source": [
    "##### 2. Sum of Inputs:\n",
    "Create two input statements, and ask the user to enter two\n",
    "numbers. print the sum of these numbers out."
   ]
  },
  {
   "cell_type": "code",
   "execution_count": 35,
   "metadata": {},
   "outputs": [
    {
     "name": "stdout",
     "output_type": "stream",
     "text": [
      "Enter the 1st no: 25\n",
      "Enter the 2nd no: 25\n",
      "The result of 25 + 25 is 50\n"
     ]
    }
   ],
   "source": [
    "num1=int(input(\"Enter the 1st no: \"))\n",
    "num2=int(input(\"Enter the 2nd no: \"))\n",
    "print(\"The result of {} + {} is {}\".format(num1,num2,num1+num2))"
   ]
  },
  {
   "cell_type": "markdown",
   "metadata": {},
   "source": [
    "##### 3. Car Information: \n",
    "Ask the user to input the year, make, model, and color of\n",
    "their car, and print a nicely formatted statement like “2018 Blue Chevrolet\n",
    "silverado.”"
   ]
  },
  {
   "cell_type": "code",
   "execution_count": 36,
   "metadata": {},
   "outputs": [
    {
     "name": "stdout",
     "output_type": "stream",
     "text": [
      "Enter the year the car was made: 2020\n",
      "Enter the model of your car: Kia Seltos\n",
      "Enter the color of your color: White\n",
      "According to our records, your car is a 2020 White Kia Seltos\n"
     ]
    }
   ],
   "source": [
    "year=int(input(\"Enter the year the car was made: \"))\n",
    "model=input(\"Enter the model of your car: \")\n",
    "color=input(\"Enter the color of your color: \")\n",
    "print(\"According to our records, your car is a {} {} {}\".format(year,color,model))"
   ]
  },
  {
   "cell_type": "markdown",
   "metadata": {},
   "source": [
    "# If Statements"
   ]
  },
  {
   "cell_type": "markdown",
   "metadata": {},
   "source": [
    "##### Writing Your First If Statement"
   ]
  },
  {
   "cell_type": "code",
   "execution_count": 39,
   "metadata": {},
   "outputs": [
    {
     "name": "stdout",
     "output_type": "stream",
     "text": [
      "x is less than y\n"
     ]
    }
   ],
   "source": [
    "#using an if statement to only run code if the condition is met\n",
    "x,y=5,10\n",
    "if x<y:\n",
    "    print(\"x is less than y\")"
   ]
  },
  {
   "cell_type": "code",
   "execution_count": 40,
   "metadata": {},
   "outputs": [
    {
     "name": "stdout",
     "output_type": "stream",
     "text": [
      "True\n",
      "True\n"
     ]
    }
   ],
   "source": [
    "x = \"Hello\"\n",
    "y = 15\n",
    "\n",
    "print(bool(x))\n",
    "print(bool(y))"
   ]
  },
  {
   "cell_type": "markdown",
   "metadata": {},
   "source": [
    "##### Checking User Input"
   ]
  },
  {
   "cell_type": "code",
   "execution_count": 42,
   "metadata": {},
   "outputs": [
    {
     "name": "stdout",
     "output_type": "stream",
     "text": [
      "What is 5+5?10\n",
      "You got that right! \n"
     ]
    }
   ],
   "source": [
    "# checking user input\n",
    "ans =int(input(\"What is 5+5?\"))\n",
    "if ans==10:\n",
    "    print(\"You got that right! \")\n",
    "    "
   ]
  },
  {
   "cell_type": "markdown",
   "metadata": {},
   "source": [
    "### Logical Operators"
   ]
  },
  {
   "cell_type": "markdown",
   "metadata": {},
   "source": [
    "##### Logical Operator “and”"
   ]
  },
  {
   "cell_type": "code",
   "execution_count": 43,
   "metadata": {},
   "outputs": [
    {
     "name": "stdout",
     "output_type": "stream",
     "text": [
      "Both statements were true\n"
     ]
    }
   ],
   "source": [
    "# using the keyword 'and' in an 'if statement' \n",
    "x,y,z=5,10,5\n",
    "if x<y and x==z:\n",
    "    print(\"Both statements were true\")"
   ]
  },
  {
   "cell_type": "markdown",
   "metadata": {},
   "source": [
    "##### Logical Operator “or”"
   ]
  },
  {
   "cell_type": "code",
   "execution_count": 44,
   "metadata": {},
   "outputs": [
    {
     "name": "stdout",
     "output_type": "stream",
     "text": [
      "one or both statements were true\n"
     ]
    }
   ],
   "source": [
    "# using the keyword 'or' in an 'if statement'\n",
    "x,y,z=5,10,5\n",
    "if x<y or x!=z:\n",
    "    print (\"one or both statements were true\")"
   ]
  },
  {
   "cell_type": "markdown",
   "metadata": {},
   "source": [
    "##### Logical Operator “not”"
   ]
  },
  {
   "cell_type": "code",
   "execution_count": 45,
   "metadata": {},
   "outputs": [
    {
     "name": "stdout",
     "output_type": "stream",
     "text": [
      "Flag is False\n"
     ]
    }
   ],
   "source": [
    "# using the keyword 'not' withon an 'if statement'\n",
    "flag=False\n",
    "if not flag:  #same as saying if not true or if flag==False:\n",
    "    print(\"Flag is False\")"
   ]
  },
  {
   "cell_type": "markdown",
   "metadata": {},
   "source": [
    "### Membership Operators"
   ]
  },
  {
   "cell_type": "markdown",
   "metadata": {},
   "source": [
    "#### Membership Operator “in”"
   ]
  },
  {
   "cell_type": "code",
   "execution_count": 51,
   "metadata": {},
   "outputs": [
    {
     "name": "stdout",
     "output_type": "stream",
     "text": [
      "Baseball contains the char b \n"
     ]
    }
   ],
   "source": [
    "# using the keywors 'in' within an 'if statement'\n",
    "word='Baseball'\n",
    "if'b'in word:   #it is case sensitive, it recognizes 'b' and not \"B\"\n",
    "    print(\"{} contains the char b \".format(word))"
   ]
  },
  {
   "cell_type": "markdown",
   "metadata": {},
   "source": [
    "#### Membership Operator “not in”"
   ]
  },
  {
   "cell_type": "code",
   "execution_count": 58,
   "metadata": {},
   "outputs": [
    {
     "name": "stdout",
     "output_type": "stream",
     "text": [
      "Baseball does not contain x\n"
     ]
    }
   ],
   "source": [
    "# using the keyword 'not in' within an 'if statement'\n",
    "word='Baseball'\n",
    "if 'x' not in word:\n",
    "    print('{} does not contain x'.format(word))"
   ]
  },
  {
   "cell_type": "markdown",
   "metadata": {},
   "source": [
    "#### TUESDAY EXERCISES\n"
   ]
  },
  {
   "cell_type": "markdown",
   "metadata": {},
   "source": [
    "#### 1. Checking Inclusion – Part 1:\n",
    "Ask the user for input, and check to see if what\n",
    "they wrote includes an “es”."
   ]
  },
  {
   "cell_type": "code",
   "execution_count": 63,
   "metadata": {},
   "outputs": [
    {
     "name": "stdout",
     "output_type": "stream",
     "text": [
      "Enter a word: Tues\n",
      "Tues contains the string 'es'\n"
     ]
    }
   ],
   "source": [
    "a=input(\"Enter a word: \")\n",
    "if 'es' in a:\n",
    "    print(\"{} contains the string 'es'\".format(a))\n"
   ]
  },
  {
   "cell_type": "markdown",
   "metadata": {},
   "source": [
    "#### 2. Checking Inclusion – Part 2: \n",
    "Ask the user for input, and check to see if what\n",
    "they wrote has an “ing” at the end. Hint: Use slicing."
   ]
  },
  {
   "cell_type": "code",
   "execution_count": 88,
   "metadata": {},
   "outputs": [
    {
     "name": "stdout",
     "output_type": "stream",
     "text": [
      "Enter a word: raming\n",
      "raming has the char 'ing' at the end of the word.\n"
     ]
    }
   ],
   "source": [
    "a=input(\"Enter a word: \")\n",
    "\n",
    "if 'ing' in a[-3:]:\n",
    "    print(\"{} has the char 'ing' at the end of the word.\".format(a))"
   ]
  },
  {
   "cell_type": "markdown",
   "metadata": {},
   "source": [
    "#### 3. Checking Equality: \n",
    "Ask the user to input two words, and write a conditional\n",
    "statement to check if both words are the same. Make it case insensitive so that\n",
    "capitals do not matter."
   ]
  },
  {
   "cell_type": "code",
   "execution_count": 85,
   "metadata": {},
   "outputs": [
    {
     "name": "stdout",
     "output_type": "stream",
     "text": [
      "Enter 1st word: ram\n",
      "Enter 2nd word: ram\n",
      "ram and ram are the same words.\n"
     ]
    }
   ],
   "source": [
    "word1=input(\"Enter 1st word: \")\n",
    "word2=input(\"Enter 2nd word: \")\n",
    "if word1.lower()==word2.lower():\n",
    "    print(\"{} and {} are the same words.\".format(word1,word2))"
   ]
  },
  {
   "cell_type": "markdown",
   "metadata": {},
   "source": [
    "#### 4. Returning Exponents: \n",
    "Ask for the user to input a number, and return that\n",
    "number squared if it is lower than 10. Hint: Investigate arithmetic expressions\n",
    "for exponents."
   ]
  },
  {
   "cell_type": "code",
   "execution_count": 81,
   "metadata": {},
   "outputs": [
    {
     "name": "stdout",
     "output_type": "stream",
     "text": [
      "Enter a number: 2\n",
      "4\n"
     ]
    }
   ],
   "source": [
    "num=int(input(\"Enter a number: \"))\n",
    "if num<10:\n",
    "    result = num ** 2\n",
    "    print (result)"
   ]
  },
  {
   "cell_type": "markdown",
   "metadata": {},
   "source": [
    "## Elif Statements"
   ]
  },
  {
   "cell_type": "markdown",
   "metadata": {},
   "source": [
    "#### Writing Your First Elif Statement"
   ]
  },
  {
   "cell_type": "code",
   "execution_count": 89,
   "metadata": {},
   "outputs": [
    {
     "name": "stdout",
     "output_type": "stream",
     "text": [
      "x is less\n"
     ]
    }
   ],
   "source": [
    "# using the elif conditional statement\n",
    "x,y=5,10\n",
    "if x>y:\n",
    "    print('x is greater')\n",
    "elif x<y:\n",
    "    print(\"x is less\")"
   ]
  },
  {
   "cell_type": "markdown",
   "metadata": {},
   "source": [
    "#### Checking Multiple Elif Conditions"
   ]
  },
  {
   "cell_type": "code",
   "execution_count": 93,
   "metadata": {},
   "outputs": [
    {
     "name": "stdout",
     "output_type": "stream",
     "text": [
      "equal\n"
     ]
    }
   ],
   "source": [
    "# checking more than one elif conditional statements\n",
    "x,y=5,10\n",
    "if x>y:\n",
    "    print(\"x is greater\")\n",
    "elif (x+10)<y:  # checking if 15 is less than 10 // Within the conditional, we perform addition, but we wrap it within parenthesis so that it executes the math operation first.\n",
    "    print(\"x is less\") \n",
    "elif (x+5)==y:  # checking if 10 is equal to 10\n",
    "    print(\"equal\")"
   ]
  },
  {
   "cell_type": "markdown",
   "metadata": {},
   "source": [
    "#### Conditionals Within Conditionals"
   ]
  },
  {
   "cell_type": "code",
   "execution_count": 96,
   "metadata": {},
   "outputs": [
    {
     "name": "stdout",
     "output_type": "stream",
     "text": [
      "x is equal to z\n"
     ]
    }
   ],
   "source": [
    "# writing multiple conditionals within each other - multiple block levels\n",
    "x,y,z=5,10,5\n",
    "if x>y:\n",
    "    print(\"greater\")\n",
    "elif x<=y:\n",
    "    if x==z:\n",
    "        print(\"x is equal to z\")\n",
    "    elif x!=z:\n",
    "        print(\"x is not equal to z\")"
   ]
  },
  {
   "cell_type": "markdown",
   "metadata": {},
   "source": [
    "#### If Statements vs. Elif Statements"
   ]
  },
  {
   "cell_type": "code",
   "execution_count": 98,
   "metadata": {},
   "outputs": [
    {
     "name": "stdout",
     "output_type": "stream",
     "text": [
      "x is less\n",
      "x is equal\n"
     ]
    }
   ],
   "source": [
    "# testing output of two if statements in a row that are both true\n",
    "x,y,z=5,10,5\n",
    "if x<y:\n",
    "    print(\"x is less\")\n",
    "if x==z:\n",
    "    print(\"x is equal\")"
   ]
  },
  {
   "cell_type": "code",
   "execution_count": 99,
   "metadata": {},
   "outputs": [
    {
     "name": "stdout",
     "output_type": "stream",
     "text": [
      "x is less\n"
     ]
    }
   ],
   "source": [
    "# testing output of an if and elif statement that are both true\n",
    "x,y,z=5,10,5\n",
    "if x<y:\n",
    "    print(\"x is less\")\n",
    "elif x==z:\n",
    "    print(\"x is equal to z\")"
   ]
  },
  {
   "cell_type": "markdown",
   "metadata": {},
   "source": [
    "#### WEDNESDAY EXERCISES"
   ]
  },
  {
   "cell_type": "markdown",
   "metadata": {},
   "source": [
    "#### 1. Higher/Lower: \n",
    "Ask the user to input a number. Type convert that number, and\n",
    "use an if/elif statement to print whether it’s higher or lower than 100."
   ]
  },
  {
   "cell_type": "code",
   "execution_count": 106,
   "metadata": {},
   "outputs": [
    {
     "name": "stdout",
     "output_type": "stream",
     "text": [
      "Enter a number: 200\n",
      "200 is higher than 100\n"
     ]
    }
   ],
   "source": [
    "num=int(input(\"Enter a number: \"))\n",
    "if num<100:\n",
    "    print(\"{} is less than 100\".format(num))\n",
    "if num==100:\n",
    "    print(\"{} is equal to 100\".format(num))\n",
    "elif num>100:\n",
    "    print(\"{} is higher than 100\".format(num))"
   ]
  },
  {
   "cell_type": "markdown",
   "metadata": {},
   "source": [
    "#### 2. Find the Solution: \n",
    "Given the following code, fix any/all errors in order to make\n",
    "it output “lower”:"
   ]
  },
  {
   "cell_type": "code",
   "execution_count": 110,
   "metadata": {},
   "outputs": [],
   "source": [
    "#x, y = 5, 10\n",
    "#if x > y:\n",
    "#print(\"greater\")\n",
    "#try x < y:\n",
    "#print(\"lower\")"
   ]
  },
  {
   "cell_type": "code",
   "execution_count": 114,
   "metadata": {},
   "outputs": [
    {
     "name": "stdout",
     "output_type": "stream",
     "text": [
      "lower\n"
     ]
    }
   ],
   "source": [
    "x, y = 5, 10\n",
    "if x > y:\n",
    "    print(\"greater\")\n",
    "elif x < y:   # was 'try', changed to 'elif'\n",
    "    print(\"lower\")"
   ]
  },
  {
   "cell_type": "markdown",
   "metadata": {},
   "source": [
    "# Else Statements"
   ]
  },
  {
   "cell_type": "markdown",
   "metadata": {},
   "source": [
    "#### Writing Your First Else Statement"
   ]
  },
  {
   "cell_type": "code",
   "execution_count": 115,
   "metadata": {},
   "outputs": [
    {
     "name": "stdout",
     "output_type": "stream",
     "text": [
      "Hello John!\n"
     ]
    }
   ],
   "source": [
    "# using a else statement\n",
    "name=\"John\"\n",
    "if name==\"Jacob\":\n",
    "    print(\"Hello Jacob\")\n",
    "else:\n",
    "    print(\"Hello {}!\". format(name))"
   ]
  },
  {
   "cell_type": "markdown",
   "metadata": {},
   "source": [
    "#### Complete Conditional Statement"
   ]
  },
  {
   "cell_type": "code",
   "execution_count": 117,
   "metadata": {},
   "outputs": [
    {
     "name": "stdout",
     "output_type": "stream",
     "text": [
      "Name starts with an J\n"
     ]
    }
   ],
   "source": [
    "# writing a full conditional statement with if,elif,else\n",
    "name=\"John\"\n",
    "if name[0]==\"A\":\n",
    "    print(\"Name starts with an A\")\n",
    "elif name[0]==\"B\":\n",
    "    print(\"Name starts with an B\")\n",
    "elif name[0]==\"J\":\n",
    "    print(\"Name starts with an J\")\n",
    "else:\n",
    "    print(\"Name starts with a {}\".format(name[0]))"
   ]
  },
  {
   "cell_type": "markdown",
   "metadata": {},
   "source": [
    "#### THURSDAY EXERCISES"
   ]
  },
  {
   "cell_type": "markdown",
   "metadata": {},
   "source": [
    "#### 1. Fix the Errors: \n",
    "Given the following code, fix any/all errors so that it outputs “Hello John” correctly:\n",
    "##### >>> name = \"John\"\n",
    "##### >>> if name == \"Jack\":\n",
    "##### >>> print(\"Hello Jack\")\n",
    "##### >>> elif:\n",
    "##### >>>> print(\"Hello John\")"
   ]
  },
  {
   "cell_type": "code",
   "execution_count": 118,
   "metadata": {},
   "outputs": [
    {
     "name": "stdout",
     "output_type": "stream",
     "text": [
      "Hello John\n"
     ]
    }
   ],
   "source": [
    "name=\"John\"\n",
    "if name ==\"Jack\":\n",
    "    print(\"Hello Jack\")\n",
    "else:\n",
    "    print(\"Hello John\")"
   ]
  },
  {
   "cell_type": "markdown",
   "metadata": {},
   "source": [
    "#### 2. User Input: \n",
    "Ask the user to input the time of day in military time without a colon (1100 = 11:00 AM). Write a conditional statement so that it outputs the\n",
    "following:\n",
    "##### a. “Good Morning” if less than 1200\n",
    "##### b. “Good Afternoon” if between 1200 and 1700\n",
    "##### c. “Good Evening” if equal or above 1700"
   ]
  },
  {
   "cell_type": "code",
   "execution_count": 136,
   "metadata": {},
   "outputs": [
    {
     "name": "stdout",
     "output_type": "stream",
     "text": [
      "Enter the time of day in military time without a colon (1100 = 11:00 AM)1800\n",
      "Good Evening\n"
     ]
    }
   ],
   "source": [
    "time=int(input(\"Enter the time of day in military time without a colon (1100 = 11:00 AM)\"))\n",
    "if time < 1200:\n",
    "    print(\"Good Morning\")\n",
    "elif time >= 1200 and time < 1700:\n",
    "        print(\"Good Afternoon\")\n",
    "elif time>= 1700 :\n",
    "        print(\"Good Evening\")"
   ]
  },
  {
   "cell_type": "markdown",
   "metadata": {},
   "source": [
    "## Friday Project: Creating a Calculator."
   ]
  },
  {
   "cell_type": "code",
   "execution_count": 142,
   "metadata": {},
   "outputs": [
    {
     "name": "stdout",
     "output_type": "stream",
     "text": [
      "Would you like to add/subtract/multiply/divide?multiply\n",
      "You want to multiply.\n",
      "What is the 1st number24\n",
      "What is the 2nd number32\n",
      "First number:24\n",
      "Second number:32\n",
      "24.0 * 32.0 = 768.0\n"
     ]
    }
   ],
   "source": [
    "# step 1: Ask user for calculation to be performed\n",
    "operation=input(\"Would you like to add/subtract/multiply/divide?\").lower()\n",
    "print(\"You want to {}.\".format(operation))   #for testing purposes\n",
    "\n",
    "#step 2: ask for numbers, alert order matters for subtracting and dividing\n",
    "if operation==\"subtract\" or operation==\"divide\":\n",
    "    print(\"You chose {}.\".format(operation))\n",
    "    print(\"Please keep in mind that the order of your numbers matter.\")\n",
    "num1= input(\"What is the 1st number\")\n",
    "num2= input(\"What is the 2nd number\")\n",
    "print(\"First number:{}\".format(num1))  # for testing purposes\n",
    "print(\"Second number:{}\".format(num2))  # for testing purposes\n",
    "\n",
    "#step 3: Setup try/except for mathematical operation\n",
    "try:\n",
    "    # step 3a: immediately try to convert number inputs to floats\n",
    "    num1, num2=float(num1), float(num2)\n",
    "    #step 3b: perform operation and print result\n",
    "    if operation==\"add\":\n",
    "        result=num1+num2\n",
    "        print(\"{} + {} = {}\".format(num1,num2,result))\n",
    "    elif operation==\"subtract\":\n",
    "        result=num1-num2\n",
    "        print(\"{} - {} = {}\".format(num1,num2,result))\n",
    "    elif operation==\"multiply\":\n",
    "        result=num1*num2\n",
    "        print(\"{} * {} = {}\".format(num1,num2,result))\n",
    "    elif operation==\"divide\":\n",
    "        result=num1/num2\n",
    "        print(\"{} / {} = {}\".format(num1,num2,result))\n",
    "    else:\n",
    "        #else will be hit if they didn't choose an operation correctly\n",
    "        print(\"Sorry, but '{}' is not an option.\".format(operation))\n",
    "except:\n",
    "        #step 3c: print error\n",
    "        print(\"Error:Improper numbers used. Please try again \")"
   ]
  },
  {
   "cell_type": "markdown",
   "metadata": {},
   "source": [
    "### Weekly Challenges"
   ]
  },
  {
   "cell_type": "markdown",
   "metadata": {},
   "source": [
    "#### 1. Reversing Numbers: \n",
    "Alter the calculator project so that the order\n",
    "of the numbers doesn’t matter. There are a few ways to get the\n",
    "same result; one way is to ask the user if they’d like to reverse the\n",
    "placement of the numbers."
   ]
  },
  {
   "cell_type": "markdown",
   "metadata": {},
   "source": [
    "#### 2. Age Group: \n",
    "Ask the user to input their age. Depending on their\n",
    "input, output one of the following groups:\n",
    "a. Between 0 and 12 = “Kid”\n",
    "b. Between 13 and 19 = “Teenager”\n",
    "c. Between 20 and 30 = “Young Adult”\n",
    "d. Between 31 and 64 = “Adult”\n",
    "e. 65 or above = “Senior”"
   ]
  },
  {
   "cell_type": "code",
   "execution_count": 150,
   "metadata": {},
   "outputs": [
    {
     "name": "stdout",
     "output_type": "stream",
     "text": [
      "Enter your age in years: 25\n",
      "Young Adult\n"
     ]
    }
   ],
   "source": [
    "age=int(input(\"Enter your age in years: \"))\n",
    "if age>=0 and age<=12:\n",
    "    print(\"Kid\")\n",
    "elif age>=13 and age<=19:\n",
    "    print(\"Teenager\")\n",
    "elif age>=20 and age<=30:\n",
    "    print(\"Young Adult\")\n",
    "elif age>=31 and age<=64:\n",
    "    print(\"Adult\")\n",
    "elif age>64:\n",
    "    print(\"Senior\")"
   ]
  },
  {
   "cell_type": "markdown",
   "metadata": {},
   "source": [
    "#### 3. Text-Based RPG: \n",
    "This is an open-ended exercise. Create a text-\n",
    "based RPG with a story line. You take user input and give them\n",
    "a couple choices, and depending on what they choose, they can\n",
    "go down a different path. You’ll use several branching statements\n",
    "depending on the length of the story."
   ]
  },
  {
   "cell_type": "code",
   "execution_count": 161,
   "metadata": {},
   "outputs": [
    {
     "name": "stdout",
     "output_type": "stream",
     "text": [
      "Enter your name: ram\n",
      "Hello, ram!, It's good to have you here.\n",
      "Enter your gender:male\n",
      "So you're a male at a time where it's almost a crime being a male\n",
      "Enter your age in years: 35\n",
      "Are you married yet? If you're not then this is probably as good a time as any.\n"
     ]
    }
   ],
   "source": [
    "name=input(\"Enter your name: \")\n",
    "print(\"Hello, {}!, It's good to have you here.\".format(name))\n",
    "sex=input(\"Enter your gender:\")\n",
    "sex=sex.lower()\n",
    "if sex == 'male':\n",
    "    print(\"So you're a male at a time where it's almost a crime being a male\")\n",
    "elif sex=='female':\n",
    "    print(\"It must be nice being a woman in todays world with the feminist trend going on\")\n",
    "age=int(input(\"Enter your age in years: \"))\n",
    "if age>=0 and age<=12:\n",
    "    print(\"You are a child, these are the best years of your life\")\n",
    "elif age>=13 and age<=19:\n",
    "    print(\"These are difficult years, your body will be changing and you must be having a difficult time. Word of advise: Listen to your parents\")\n",
    "elif age>=20 and age<=30:\n",
    "    print(\"You must not have a lot of responsibilities yet, Explore the world, do things you love. This time will not come back again \")\n",
    "elif age>=31 and age<=64:\n",
    "    print(\"Are you married yet? If you're not then this is probably as good a time as any.\")\n",
    "elif age>64:\n",
    "    print(\"Enjoy the retired life with the love of your life\")"
   ]
  },
  {
   "cell_type": "code",
   "execution_count": null,
   "metadata": {},
   "outputs": [],
   "source": []
  }
 ],
 "metadata": {
  "kernelspec": {
   "display_name": "Python 3",
   "language": "python",
   "name": "python3"
  },
  "language_info": {
   "codemirror_mode": {
    "name": "ipython",
    "version": 3
   },
   "file_extension": ".py",
   "mimetype": "text/x-python",
   "name": "python",
   "nbconvert_exporter": "python",
   "pygments_lexer": "ipython3",
   "version": "3.7.6"
  }
 },
 "nbformat": 4,
 "nbformat_minor": 4
}
